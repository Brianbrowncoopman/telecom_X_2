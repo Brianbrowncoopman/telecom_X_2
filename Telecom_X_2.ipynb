{
  "nbformat": 4,
  "nbformat_minor": 0,
  "metadata": {
    "colab": {
      "provenance": [],
      "toc_visible": true,
      "authorship_tag": "ABX9TyO9PnsJ3irMksGBWZpwfSsn",
      "include_colab_link": true
    },
    "kernelspec": {
      "name": "python3",
      "display_name": "Python 3"
    },
    "language_info": {
      "name": "python"
    }
  },
  "cells": [
    {
      "cell_type": "markdown",
      "metadata": {
        "id": "view-in-github",
        "colab_type": "text"
      },
      "source": [
        "<a href=\"https://colab.research.google.com/github/Brianbrowncoopman/telecom_X_2/blob/master/Telecom_X_2.ipynb\" target=\"_parent\"><img src=\"https://colab.research.google.com/assets/colab-badge.svg\" alt=\"Open In Colab\"/></a>"
      ]
    },
    {
      "cell_type": "markdown",
      "source": [
        "Aca inicia el desafio Tel;ecom_X_2"
      ],
      "metadata": {
        "id": "2XCWO-ibV7Dh"
      }
    },
    {
      "cell_type": "markdown",
      "source": [
        "subiendo a gitub"
      ],
      "metadata": {
        "id": "RvWOCwAAW2DL"
      }
    },
    {
      "cell_type": "code",
      "source": [
        "import pandas as pd\n",
        "import numpy as np\n",
        "import matplotlib.pyplot as plt\n",
        "import seaborn as sns"
      ],
      "metadata": {
        "id": "fUa6Y-0WV_7I"
      },
      "execution_count": 1,
      "outputs": []
    },
    {
      "cell_type": "code",
      "execution_count": null,
      "metadata": {
        "id": "BJPfphmwVtNL"
      },
      "outputs": [],
      "source": []
    }
  ]
}
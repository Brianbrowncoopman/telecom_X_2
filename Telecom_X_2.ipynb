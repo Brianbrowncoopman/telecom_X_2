{
  "nbformat": 4,
  "nbformat_minor": 0,
  "metadata": {
    "colab": {
      "provenance": [],
      "toc_visible": true
    },
    "kernelspec": {
      "name": "python3",
      "display_name": "Python 3"
    },
    "language_info": {
      "name": "python"
    }
  },
  "cells": [
    {
      "cell_type": "markdown",
      "source": [
        "Aca inicia el desafio Tel;ecom_X_2"
      ],
      "metadata": {
        "id": "2XCWO-ibV7Dh"
      }
    },
    {
      "cell_type": "markdown",
      "source": [
        "subiendo a gitub"
      ],
      "metadata": {
        "id": "RvWOCwAAW2DL"
      }
    },
    {
      "cell_type": "code",
      "source": [],
      "metadata": {
        "id": "fUa6Y-0WV_7I"
      },
      "execution_count": null,
      "outputs": []
    },
    {
      "cell_type": "code",
      "execution_count": null,
      "metadata": {
        "id": "BJPfphmwVtNL"
      },
      "outputs": [],
      "source": []
    }
  ]
}